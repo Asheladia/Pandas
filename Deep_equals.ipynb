{
 "cells": [
  {
   "cell_type": "code",
   "execution_count": 3,
   "metadata": {},
   "outputs": [],
   "source": [
    "a = [1, 2, 3]\n",
    "b = [1, 2, 3]\n",
    "c = [1, 2, 3, 4]\n",
    "d = [3, 2, 1]\n",
    "e = [1, 1, 2, 3]"
   ]
  },
  {
   "cell_type": "code",
   "execution_count": 4,
   "metadata": {},
   "outputs": [],
   "source": [
    "def deep_equals(list1, list2):\n",
    "    list1 = sorted(list1)\n",
    "    list2 = sorted(list2)\n",
    "    return list1 == list2\n"
   ]
  },
  {
   "cell_type": "code",
   "execution_count": null,
   "metadata": {},
   "outputs": [],
   "source": []
  },
  {
   "cell_type": "code",
   "execution_count": 5,
   "metadata": {},
   "outputs": [
    {
     "name": "stdout",
     "output_type": "stream",
     "text": [
      "Should be True:  True\n",
      "Should be False:  False\n",
      "Should be True:  True\n",
      "Should be False:  False\n"
     ]
    }
   ],
   "source": [
    "print(\"Should be True: \", deep_equals(a, b))\n",
    "print(\"Should be False: \", deep_equals(a, c))\n",
    "print(\"Should be True: \", deep_equals(a, d))\n",
    "print(\"Should be False: \", deep_equals(a, e))"
   ]
  },
  {
   "cell_type": "markdown",
   "metadata": {},
   "source": [
    "## Solution 2: Iterate and Compare"
   ]
  },
  {
   "cell_type": "code",
   "execution_count": 6,
   "metadata": {},
   "outputs": [],
   "source": [
    "def deep_equals(list1, list2):\n",
    "\n",
    "    if len(list1) != len(list2):\n",
    "        return False\n",
    "    \n",
    "    for item in list1:\n",
    "        if item not in list2:\n",
    "            return False\n",
    "            \n",
    "    for item in list2:\n",
    "        if item not in list1:\n",
    "            return False\n",
    "            \n",
    "    return True   "
   ]
  },
  {
   "cell_type": "code",
   "execution_count": 7,
   "metadata": {},
   "outputs": [
    {
     "name": "stdout",
     "output_type": "stream",
     "text": [
      "Should be True:  True\n",
      "Should be False:  False\n",
      "Should be True:  True\n",
      "Should be False:  False\n"
     ]
    }
   ],
   "source": [
    "print(\"Should be True: \", deep_equals(a, b))\n",
    "print(\"Should be False: \", deep_equals(a, c))\n",
    "print(\"Should be True: \", deep_equals(a, d))\n",
    "print(\"Should be False: \", deep_equals(a, e))"
   ]
  },
  {
   "cell_type": "code",
   "execution_count": null,
   "metadata": {},
   "outputs": [],
   "source": []
  }
 ],
 "metadata": {
  "kernelspec": {
   "display_name": "Python 3",
   "language": "python",
   "name": "python3"
  },
  "language_info": {
   "codemirror_mode": {
    "name": "ipython",
    "version": 3
   },
   "file_extension": ".py",
   "mimetype": "text/x-python",
   "name": "python",
   "nbconvert_exporter": "python",
   "pygments_lexer": "ipython3",
   "version": "3.7.6"
  }
 },
 "nbformat": 4,
 "nbformat_minor": 4
}
