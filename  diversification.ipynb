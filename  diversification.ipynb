{
 "cells": [
  {
   "cell_type": "code",
   "execution_count": 12,
   "metadata": {},
   "outputs": [],
   "source": [
    "# Import libraries and dependencies\n",
    "import pandas as pd\n",
    "import numpy as np\n",
    "from pathlib import Path\n",
    "import seaborn as sns\n",
    "%matplotlib inline"
   ]
  },
  {
   "cell_type": "code",
   "execution_count": 13,
   "metadata": {},
   "outputs": [
    {
     "data": {
      "text/html": [
       "<div>\n",
       "<style scoped>\n",
       "    .dataframe tbody tr th:only-of-type {\n",
       "        vertical-align: middle;\n",
       "    }\n",
       "\n",
       "    .dataframe tbody tr th {\n",
       "        vertical-align: top;\n",
       "    }\n",
       "\n",
       "    .dataframe thead th {\n",
       "        text-align: right;\n",
       "    }\n",
       "</style>\n",
       "<table border=\"1\" class=\"dataframe\">\n",
       "  <thead>\n",
       "    <tr style=\"text-align: right;\">\n",
       "      <th></th>\n",
       "      <th>HD</th>\n",
       "    </tr>\n",
       "    <tr>\n",
       "      <th>date</th>\n",
       "      <th></th>\n",
       "    </tr>\n",
       "  </thead>\n",
       "  <tbody>\n",
       "    <tr>\n",
       "      <th>5/14/19</th>\n",
       "      <td>191.62</td>\n",
       "    </tr>\n",
       "    <tr>\n",
       "      <th>5/13/19</th>\n",
       "      <td>190.34</td>\n",
       "    </tr>\n",
       "    <tr>\n",
       "      <th>5/10/19</th>\n",
       "      <td>194.58</td>\n",
       "    </tr>\n",
       "    <tr>\n",
       "      <th>5/9/19</th>\n",
       "      <td>194.58</td>\n",
       "    </tr>\n",
       "    <tr>\n",
       "      <th>5/8/19</th>\n",
       "      <td>195.17</td>\n",
       "    </tr>\n",
       "  </tbody>\n",
       "</table>\n",
       "</div>"
      ],
      "text/plain": [
       "             HD\n",
       "date           \n",
       "5/14/19  191.62\n",
       "5/13/19  190.34\n",
       "5/10/19  194.58\n",
       "5/9/19   194.58\n",
       "5/8/19   195.17"
      ]
     },
     "execution_count": 13,
     "metadata": {},
     "output_type": "execute_result"
    }
   ],
   "source": [
    "# Set file paths\n",
    "hd_data = Path(\"../Pandas/HD.csv\")\n",
    "jnj_data = Path(\"../Pandas/JNJ.csv\")\n",
    "intc_data = Path(\"../Pandas/INTC.csv\")\n",
    "amd_data = Path(\"../Pandas/AMD.csv\")\n",
    "mu_data = Path(\"../Pandas/MU.csv\")\n",
    "nvda_data = Path(\"../Pandas/NVDA.csv\")\n",
    "tsm_data = Path(\"../Pandas/TSM.csv\")\n",
    "\n",
    "# Read the individual CSV datasets\n",
    "hd = pd.read_csv(hd_data, index_col=\"date\")\n",
    "jnj = pd.read_csv(jnj_data, index_col=\"date\")\n",
    "intc = pd.read_csv(intc_data, index_col=\"date\")\n",
    "amd = pd.read_csv(amd_data, index_col=\"date\")\n",
    "mu = pd.read_csv(mu_data, index_col=\"date\")\n",
    "nvda = pd.read_csv(nvda_data, index_col=\"date\")\n",
    "tsm = pd.read_csv(tsm_data, index_col=\"date\")\n",
    "hd.head()\n"
   ]
  },
  {
   "cell_type": "markdown",
   "metadata": {},
   "source": [
    "##  Combine the DataFrames"
   ]
  },
  {
   "cell_type": "code",
   "execution_count": 4,
   "metadata": {},
   "outputs": [
    {
     "data": {
      "text/html": [
       "<div>\n",
       "<style scoped>\n",
       "    .dataframe tbody tr th:only-of-type {\n",
       "        vertical-align: middle;\n",
       "    }\n",
       "\n",
       "    .dataframe tbody tr th {\n",
       "        vertical-align: top;\n",
       "    }\n",
       "\n",
       "    .dataframe thead th {\n",
       "        text-align: right;\n",
       "    }\n",
       "</style>\n",
       "<table border=\"1\" class=\"dataframe\">\n",
       "  <thead>\n",
       "    <tr style=\"text-align: right;\">\n",
       "      <th></th>\n",
       "      <th>hd</th>\n",
       "      <th>jnj</th>\n",
       "      <th>intc</th>\n",
       "      <th>mu</th>\n",
       "      <th>amd</th>\n",
       "      <th>nvda</th>\n",
       "      <th>tsm</th>\n",
       "    </tr>\n",
       "    <tr>\n",
       "      <th>date</th>\n",
       "      <th></th>\n",
       "      <th></th>\n",
       "      <th></th>\n",
       "      <th></th>\n",
       "      <th></th>\n",
       "      <th></th>\n",
       "      <th></th>\n",
       "    </tr>\n",
       "  </thead>\n",
       "  <tbody>\n",
       "    <tr>\n",
       "      <th>1/10/11</th>\n",
       "      <td>34.39</td>\n",
       "      <td>24.6332</td>\n",
       "      <td>20.69</td>\n",
       "      <td>8.55</td>\n",
       "      <td>9.19</td>\n",
       "      <td>20.631</td>\n",
       "      <td>13.22</td>\n",
       "    </tr>\n",
       "    <tr>\n",
       "      <th>1/10/12</th>\n",
       "      <td>43.53</td>\n",
       "      <td>39.0728</td>\n",
       "      <td>25.59</td>\n",
       "      <td>7.25</td>\n",
       "      <td>5.71</td>\n",
       "      <td>14.480</td>\n",
       "      <td>13.77</td>\n",
       "    </tr>\n",
       "    <tr>\n",
       "      <th>1/10/13</th>\n",
       "      <td>63.62</td>\n",
       "      <td>39.7553</td>\n",
       "      <td>21.80</td>\n",
       "      <td>7.42</td>\n",
       "      <td>2.62</td>\n",
       "      <td>12.230</td>\n",
       "      <td>18.18</td>\n",
       "    </tr>\n",
       "    <tr>\n",
       "      <th>1/10/14</th>\n",
       "      <td>82.01</td>\n",
       "      <td>57.0491</td>\n",
       "      <td>25.53</td>\n",
       "      <td>23.71</td>\n",
       "      <td>4.17</td>\n",
       "      <td>15.730</td>\n",
       "      <td>16.90</td>\n",
       "    </tr>\n",
       "    <tr>\n",
       "      <th>1/10/17</th>\n",
       "      <td>136.10</td>\n",
       "      <td>56.0700</td>\n",
       "      <td>36.54</td>\n",
       "      <td>22.48</td>\n",
       "      <td>11.44</td>\n",
       "      <td>106.470</td>\n",
       "      <td>30.07</td>\n",
       "    </tr>\n",
       "  </tbody>\n",
       "</table>\n",
       "</div>"
      ],
      "text/plain": [
       "             hd      jnj   intc     mu    amd     nvda    tsm\n",
       "date                                                         \n",
       "1/10/11   34.39  24.6332  20.69   8.55   9.19   20.631  13.22\n",
       "1/10/12   43.53  39.0728  25.59   7.25   5.71   14.480  13.77\n",
       "1/10/13   63.62  39.7553  21.80   7.42   2.62   12.230  18.18\n",
       "1/10/14   82.01  57.0491  25.53  23.71   4.17   15.730  16.90\n",
       "1/10/17  136.10  56.0700  36.54  22.48  11.44  106.470  30.07"
      ]
     },
     "execution_count": 4,
     "metadata": {},
     "output_type": "execute_result"
    }
   ],
   "source": [
    "# Use the `concat` function to combine the DataFrames by matching indexes (or in this case `date`)\n",
    "combined_df = pd.concat([hd, jnj, intc, mu, amd ,nvda, tsm], axis=\"columns\", join=\"inner\")\n",
    "# Sort datetime index in ascending order \n",
    "combined_df.sort_index(inplace=True)\n",
    "# Set column names\n",
    "combined_df.columns = ['hd', 'jnj', 'intc', 'mu', 'amd', 'nvda', 'tsm']\n",
    "# display few rows\n",
    "combined_df.head()"
   ]
  },
  {
   "cell_type": "markdown",
   "metadata": {},
   "source": [
    "##  Calculate Daily Returns"
   ]
  },
  {
   "cell_type": "code",
   "execution_count": 15,
   "metadata": {},
   "outputs": [
    {
     "data": {
      "text/html": [
       "<div>\n",
       "<style scoped>\n",
       "    .dataframe tbody tr th:only-of-type {\n",
       "        vertical-align: middle;\n",
       "    }\n",
       "\n",
       "    .dataframe tbody tr th {\n",
       "        vertical-align: top;\n",
       "    }\n",
       "\n",
       "    .dataframe thead th {\n",
       "        text-align: right;\n",
       "    }\n",
       "</style>\n",
       "<table border=\"1\" class=\"dataframe\">\n",
       "  <thead>\n",
       "    <tr style=\"text-align: right;\">\n",
       "      <th></th>\n",
       "      <th>hd</th>\n",
       "      <th>jnj</th>\n",
       "      <th>intc</th>\n",
       "      <th>mu</th>\n",
       "      <th>amd</th>\n",
       "      <th>nvda</th>\n",
       "      <th>tsm</th>\n",
       "    </tr>\n",
       "    <tr>\n",
       "      <th>date</th>\n",
       "      <th></th>\n",
       "      <th></th>\n",
       "      <th></th>\n",
       "      <th></th>\n",
       "      <th></th>\n",
       "      <th></th>\n",
       "      <th></th>\n",
       "    </tr>\n",
       "  </thead>\n",
       "  <tbody>\n",
       "    <tr>\n",
       "      <th>1/10/11</th>\n",
       "      <td>NaN</td>\n",
       "      <td>NaN</td>\n",
       "      <td>NaN</td>\n",
       "      <td>NaN</td>\n",
       "      <td>NaN</td>\n",
       "      <td>NaN</td>\n",
       "      <td>NaN</td>\n",
       "    </tr>\n",
       "    <tr>\n",
       "      <th>1/10/12</th>\n",
       "      <td>0.265775</td>\n",
       "      <td>0.586184</td>\n",
       "      <td>0.236829</td>\n",
       "      <td>-0.152047</td>\n",
       "      <td>-0.378672</td>\n",
       "      <td>-0.298144</td>\n",
       "      <td>0.041604</td>\n",
       "    </tr>\n",
       "    <tr>\n",
       "      <th>1/10/13</th>\n",
       "      <td>0.461521</td>\n",
       "      <td>0.017467</td>\n",
       "      <td>-0.148105</td>\n",
       "      <td>0.023448</td>\n",
       "      <td>-0.541156</td>\n",
       "      <td>-0.155387</td>\n",
       "      <td>0.320261</td>\n",
       "    </tr>\n",
       "    <tr>\n",
       "      <th>1/10/14</th>\n",
       "      <td>0.289060</td>\n",
       "      <td>0.435006</td>\n",
       "      <td>0.171101</td>\n",
       "      <td>2.195418</td>\n",
       "      <td>0.591603</td>\n",
       "      <td>0.286182</td>\n",
       "      <td>-0.070407</td>\n",
       "    </tr>\n",
       "    <tr>\n",
       "      <th>1/10/17</th>\n",
       "      <td>0.659554</td>\n",
       "      <td>-0.017162</td>\n",
       "      <td>0.431257</td>\n",
       "      <td>-0.051877</td>\n",
       "      <td>1.743405</td>\n",
       "      <td>5.768595</td>\n",
       "      <td>0.779290</td>\n",
       "    </tr>\n",
       "  </tbody>\n",
       "</table>\n",
       "</div>"
      ],
      "text/plain": [
       "               hd       jnj      intc        mu       amd      nvda       tsm\n",
       "date                                                                         \n",
       "1/10/11       NaN       NaN       NaN       NaN       NaN       NaN       NaN\n",
       "1/10/12  0.265775  0.586184  0.236829 -0.152047 -0.378672 -0.298144  0.041604\n",
       "1/10/13  0.461521  0.017467 -0.148105  0.023448 -0.541156 -0.155387  0.320261\n",
       "1/10/14  0.289060  0.435006  0.171101  2.195418  0.591603  0.286182 -0.070407\n",
       "1/10/17  0.659554 -0.017162  0.431257 -0.051877  1.743405  5.768595  0.779290"
      ]
     },
     "execution_count": 15,
     "metadata": {},
     "output_type": "execute_result"
    }
   ],
   "source": [
    "# Use the `pct_change` function to calculate daily returns for each stock\n",
    "daily_returns = combined_df.pct_change()\n",
    "daily_returns.head()"
   ]
  },
  {
   "cell_type": "markdown",
   "metadata": {},
   "source": [
    "## Calculate Correlation"
   ]
  },
  {
   "cell_type": "code",
   "execution_count": 16,
   "metadata": {},
   "outputs": [
    {
     "data": {
      "text/html": [
       "<div>\n",
       "<style scoped>\n",
       "    .dataframe tbody tr th:only-of-type {\n",
       "        vertical-align: middle;\n",
       "    }\n",
       "\n",
       "    .dataframe tbody tr th {\n",
       "        vertical-align: top;\n",
       "    }\n",
       "\n",
       "    .dataframe thead th {\n",
       "        text-align: right;\n",
       "    }\n",
       "</style>\n",
       "<table border=\"1\" class=\"dataframe\">\n",
       "  <thead>\n",
       "    <tr style=\"text-align: right;\">\n",
       "      <th></th>\n",
       "      <th>hd</th>\n",
       "      <th>jnj</th>\n",
       "      <th>intc</th>\n",
       "      <th>mu</th>\n",
       "      <th>amd</th>\n",
       "      <th>nvda</th>\n",
       "      <th>tsm</th>\n",
       "    </tr>\n",
       "  </thead>\n",
       "  <tbody>\n",
       "    <tr>\n",
       "      <th>hd</th>\n",
       "      <td>1.000000</td>\n",
       "      <td>0.574880</td>\n",
       "      <td>0.712120</td>\n",
       "      <td>0.536763</td>\n",
       "      <td>0.115256</td>\n",
       "      <td>0.336181</td>\n",
       "      <td>0.865272</td>\n",
       "    </tr>\n",
       "    <tr>\n",
       "      <th>jnj</th>\n",
       "      <td>0.574880</td>\n",
       "      <td>1.000000</td>\n",
       "      <td>0.631309</td>\n",
       "      <td>0.524228</td>\n",
       "      <td>0.442925</td>\n",
       "      <td>0.341283</td>\n",
       "      <td>0.672558</td>\n",
       "    </tr>\n",
       "    <tr>\n",
       "      <th>intc</th>\n",
       "      <td>0.712120</td>\n",
       "      <td>0.631309</td>\n",
       "      <td>1.000000</td>\n",
       "      <td>0.584800</td>\n",
       "      <td>0.373484</td>\n",
       "      <td>0.511216</td>\n",
       "      <td>0.805858</td>\n",
       "    </tr>\n",
       "    <tr>\n",
       "      <th>mu</th>\n",
       "      <td>0.536763</td>\n",
       "      <td>0.524228</td>\n",
       "      <td>0.584800</td>\n",
       "      <td>1.000000</td>\n",
       "      <td>0.311998</td>\n",
       "      <td>0.347663</td>\n",
       "      <td>0.585045</td>\n",
       "    </tr>\n",
       "    <tr>\n",
       "      <th>amd</th>\n",
       "      <td>0.115256</td>\n",
       "      <td>0.442925</td>\n",
       "      <td>0.373484</td>\n",
       "      <td>0.311998</td>\n",
       "      <td>1.000000</td>\n",
       "      <td>0.782963</td>\n",
       "      <td>0.411280</td>\n",
       "    </tr>\n",
       "    <tr>\n",
       "      <th>nvda</th>\n",
       "      <td>0.336181</td>\n",
       "      <td>0.341283</td>\n",
       "      <td>0.511216</td>\n",
       "      <td>0.347663</td>\n",
       "      <td>0.782963</td>\n",
       "      <td>1.000000</td>\n",
       "      <td>0.608762</td>\n",
       "    </tr>\n",
       "    <tr>\n",
       "      <th>tsm</th>\n",
       "      <td>0.865272</td>\n",
       "      <td>0.672558</td>\n",
       "      <td>0.805858</td>\n",
       "      <td>0.585045</td>\n",
       "      <td>0.411280</td>\n",
       "      <td>0.608762</td>\n",
       "      <td>1.000000</td>\n",
       "    </tr>\n",
       "  </tbody>\n",
       "</table>\n",
       "</div>"
      ],
      "text/plain": [
       "            hd       jnj      intc        mu       amd      nvda       tsm\n",
       "hd    1.000000  0.574880  0.712120  0.536763  0.115256  0.336181  0.865272\n",
       "jnj   0.574880  1.000000  0.631309  0.524228  0.442925  0.341283  0.672558\n",
       "intc  0.712120  0.631309  1.000000  0.584800  0.373484  0.511216  0.805858\n",
       "mu    0.536763  0.524228  0.584800  1.000000  0.311998  0.347663  0.585045\n",
       "amd   0.115256  0.442925  0.373484  0.311998  1.000000  0.782963  0.411280\n",
       "nvda  0.336181  0.341283  0.511216  0.347663  0.782963  1.000000  0.608762\n",
       "tsm   0.865272  0.672558  0.805858  0.585045  0.411280  0.608762  1.000000"
      ]
     },
     "execution_count": 16,
     "metadata": {},
     "output_type": "execute_result"
    }
   ],
   "source": [
    "# Use the `corr` function to calculate correlations for each stock pair\n",
    "correlation = daily_returns.corr()\n",
    "correlation"
   ]
  },
  {
   "cell_type": "markdown",
   "metadata": {},
   "source": [
    "##  Plot Correlation"
   ]
  },
  {
   "cell_type": "code",
   "execution_count": 7,
   "metadata": {},
   "outputs": [
    {
     "data": {
      "text/plain": [
       "<matplotlib.axes._subplots.AxesSubplot at 0x25d08d22048>"
      ]
     },
     "execution_count": 7,
     "metadata": {},
     "output_type": "execute_result"
    },
    {
     "data": {
      "image/png": "[encoded data removed]",
      "text/plain": [
       "<Figure size 432x288 with 2 Axes>"
      ]
     },
     "metadata": {
      "needs_background": "light"
     },
     "output_type": "display_data"
    }
   ],
   "source": [
    "# Create a heatmap from the correlation values\n",
    "sns.heatmap(correlation)"
   ]
  },
  {
   "cell_type": "code",
   "execution_count": 8,
   "metadata": {},
   "outputs": [
    {
     "data": {
      "text/plain": [
       "<matplotlib.axes._subplots.AxesSubplot at 0x25d0969c048>"
      ]
     },
     "execution_count": 8,
     "metadata": {},
     "output_type": "execute_result"
    },
    {
     "data": {
      "image/png": "[encoded data removed]",
      "text/plain": [
       "<Figure size 432x288 with 2 Axes>"
      ]
     },
     "metadata": {
      "needs_background": "light"
     },
     "output_type": "display_data"
    }
   ],
   "source": [
    "# Create a heatmap from the correlation values and adjust the scale\n",
    "sns.heatmap(correlation, vmin = -1, vmax = 1)"
   ]
  },
  {
   "cell_type": "markdown",
   "metadata": {},
   "source": [
    "##  Which semiconductor stock would be the best candidate to add to the existing portfolio?"
   ]
  },
  {
   "cell_type": "code",
   "execution_count": null,
   "metadata": {},
   "outputs": [],
   "source": []
  },
  {
   "cell_type": "markdown",
   "metadata": {},
   "source": [
    "##  Evaluate Riskiness of Stocks"
   ]
  },
  {
   "cell_type": "code",
   "execution_count": 19,
   "metadata": {},
   "outputs": [
    {
     "name": "stdout",
     "output_type": "stream",
     "text": [
      "intc     5.080354\n",
      "tsm      6.337952\n",
      "jnj      8.462920\n",
      "hd       8.463756\n",
      "mu      16.129652\n",
      "amd     28.286081\n",
      "nvda    28.295308\n",
      "dtype: float64\n"
     ]
    }
   ],
   "source": [
    "# Use the `std` function and multiply by the square root of the number of trading days in a year to get annualized volatility\n",
    "#volatility = daily_return.pct_change()\n",
    "\n",
    "#volatility.head()\n",
    "volatility = daily_returns.std() * np.sqrt(252) \n",
    "volatility.sort_values(inplace=True)\n",
    "print(volatility)"
   ]
  },
  {
   "cell_type": "code",
   "execution_count": 20,
   "metadata": {},
   "outputs": [
    {
     "data": {
      "text/html": [
       "<div>\n",
       "<style scoped>\n",
       "    .dataframe tbody tr th:only-of-type {\n",
       "        vertical-align: middle;\n",
       "    }\n",
       "\n",
       "    .dataframe tbody tr th {\n",
       "        vertical-align: top;\n",
       "    }\n",
       "\n",
       "    .dataframe thead th {\n",
       "        text-align: right;\n",
       "    }\n",
       "</style>\n",
       "<table border=\"1\" class=\"dataframe\">\n",
       "  <thead>\n",
       "    <tr style=\"text-align: right;\">\n",
       "      <th></th>\n",
       "    </tr>\n",
       "    <tr>\n",
       "      <th>date</th>\n",
       "    </tr>\n",
       "  </thead>\n",
       "  <tbody>\n",
       "    <tr>\n",
       "      <th>1/10/11</th>\n",
       "    </tr>\n",
       "    <tr>\n",
       "      <th>1/10/12</th>\n",
       "    </tr>\n",
       "    <tr>\n",
       "      <th>1/10/13</th>\n",
       "    </tr>\n",
       "    <tr>\n",
       "      <th>1/10/14</th>\n",
       "    </tr>\n",
       "    <tr>\n",
       "      <th>1/10/17</th>\n",
       "    </tr>\n",
       "  </tbody>\n",
       "</table>\n",
       "</div>"
      ],
      "text/plain": [
       "Empty DataFrame\n",
       "Columns: []\n",
       "Index: [1/10/11, 1/10/12, 1/10/13, 1/10/14, 1/10/17]"
      ]
     },
     "execution_count": 20,
     "metadata": {},
     "output_type": "execute_result"
    }
   ],
   "source": [
    "# Drop the 5 stocks with the highest volatility in daily returns\n",
    "daily_returns.drop(columns=['hd', 'jnj', 'intc', 'mu', 'amd', 'nvda', 'tsm'], inplace=True)\n",
    "daily_returns.head()"
   ]
  },
  {
   "cell_type": "code",
   "execution_count": null,
   "metadata": {},
   "outputs": [],
   "source": []
  }
 ],
 "metadata": {
  "kernelspec": {
   "display_name": "Python 3",
   "language": "python",
   "name": "python3"
  },
  "language_info": {
   "codemirror_mode": {
    "name": "ipython",
    "version": 3
   },
   "file_extension": ".py",
   "mimetype": "text/x-python",
   "name": "python",
   "nbconvert_exporter": "python",
   "pygments_lexer": "ipython3",
   "version": "3.7.6"
  }
 },
 "nbformat": 4,
 "nbformat_minor": 4
}
