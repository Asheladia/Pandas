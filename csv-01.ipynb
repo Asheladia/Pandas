{
 "cells": [
  {
   "cell_type": "code",
   "execution_count": 13,
   "metadata": {},
   "outputs": [],
   "source": [
    "from pathlib import Path\n",
    "import pandas as pd\n",
    "import numpy as np"
   ]
  },
  {
   "cell_type": "code",
   "execution_count": 14,
   "metadata": {},
   "outputs": [
    {
     "data": {
      "text/html": [
       "<div>\n",
       "<style scoped>\n",
       "    .dataframe tbody tr th:only-of-type {\n",
       "        vertical-align: middle;\n",
       "    }\n",
       "\n",
       "    .dataframe tbody tr th {\n",
       "        vertical-align: top;\n",
       "    }\n",
       "\n",
       "    .dataframe thead th {\n",
       "        text-align: right;\n",
       "    }\n",
       "</style>\n",
       "<table border=\"1\" class=\"dataframe\">\n",
       "  <thead>\n",
       "    <tr style=\"text-align: right;\">\n",
       "      <th></th>\n",
       "      <th>first_name</th>\n",
       "      <th>last_name</th>\n",
       "      <th>email</th>\n",
       "      <th>gender</th>\n",
       "      <th>uni_grad</th>\n",
       "      <th>job_title</th>\n",
       "      <th>Income</th>\n",
       "    </tr>\n",
       "    <tr>\n",
       "      <th>id</th>\n",
       "      <th></th>\n",
       "      <th></th>\n",
       "      <th></th>\n",
       "      <th></th>\n",
       "      <th></th>\n",
       "      <th></th>\n",
       "      <th></th>\n",
       "    </tr>\n",
       "  </thead>\n",
       "  <tbody>\n",
       "    <tr>\n",
       "      <th>1.0</th>\n",
       "      <td>Keriann</td>\n",
       "      <td>Lenormand</td>\n",
       "      <td>klenormand0@businessinsider.com</td>\n",
       "      <td>Female</td>\n",
       "      <td>Aurora University</td>\n",
       "      <td>Nurse Practicioner</td>\n",
       "      <td>58135.0</td>\n",
       "    </tr>\n",
       "    <tr>\n",
       "      <th>2.0</th>\n",
       "      <td>Huntley</td>\n",
       "      <td>Rupke</td>\n",
       "      <td>hrupke1@reuters.com</td>\n",
       "      <td>Male</td>\n",
       "      <td>Osaka University of Economics</td>\n",
       "      <td>Project Manager</td>\n",
       "      <td>96053.0</td>\n",
       "    </tr>\n",
       "    <tr>\n",
       "      <th>3.0</th>\n",
       "      <td>Gorden</td>\n",
       "      <td>Dalgarnowch</td>\n",
       "      <td>gdalgarnowch2@microsoft.com</td>\n",
       "      <td>Male</td>\n",
       "      <td>Ludong University</td>\n",
       "      <td>Environmental Tech</td>\n",
       "      <td>59196.0</td>\n",
       "    </tr>\n",
       "    <tr>\n",
       "      <th>4.0</th>\n",
       "      <td>Cullie</td>\n",
       "      <td>NaN</td>\n",
       "      <td>cputten3@nymag.com</td>\n",
       "      <td>Male</td>\n",
       "      <td>Université des Sciences et de la Technologie d...</td>\n",
       "      <td>Legal Assistant</td>\n",
       "      <td>88493.0</td>\n",
       "    </tr>\n",
       "    <tr>\n",
       "      <th>5.0</th>\n",
       "      <td>Ariel</td>\n",
       "      <td>Strangman</td>\n",
       "      <td>astrangman4@bravesites.com</td>\n",
       "      <td>Female</td>\n",
       "      <td>Boise State University</td>\n",
       "      <td>Project Manager</td>\n",
       "      <td>89073.0</td>\n",
       "    </tr>\n",
       "  </tbody>\n",
       "</table>\n",
       "</div>"
      ],
      "text/plain": [
       "    first_name    last_name                            email  gender  \\\n",
       "id                                                                     \n",
       "1.0    Keriann    Lenormand  klenormand0@businessinsider.com  Female   \n",
       "2.0    Huntley        Rupke              hrupke1@reuters.com    Male   \n",
       "3.0     Gorden  Dalgarnowch      gdalgarnowch2@microsoft.com    Male   \n",
       "4.0     Cullie          NaN               cputten3@nymag.com    Male   \n",
       "5.0      Ariel    Strangman       astrangman4@bravesites.com  Female   \n",
       "\n",
       "                                              uni_grad           job_title  \\\n",
       "id                                                                           \n",
       "1.0                                  Aurora University  Nurse Practicioner   \n",
       "2.0                      Osaka University of Economics     Project Manager   \n",
       "3.0                                  Ludong University  Environmental Tech   \n",
       "4.0  Université des Sciences et de la Technologie d...     Legal Assistant   \n",
       "5.0                             Boise State University     Project Manager   \n",
       "\n",
       "      Income  \n",
       "id            \n",
       "1.0  58135.0  \n",
       "2.0  96053.0  \n",
       "3.0  59196.0  \n",
       "4.0  88493.0  \n",
       "5.0  89073.0  "
      ]
     },
     "execution_count": 14,
     "metadata": {},
     "output_type": "execute_result"
    }
   ],
   "source": [
    "csvpath = Path('../Pandas/people.csv')\n",
    "csvpath = pd.read_csv(csvpath, index_col=\"id\")\n",
    "csvpath.head()"
   ]
  },
  {
   "cell_type": "markdown",
   "metadata": {},
   "source": [
    "##  Generate Summary Statistics on the DataFrame"
   ]
  },
  {
   "cell_type": "code",
   "execution_count": 15,
   "metadata": {},
   "outputs": [
    {
     "data": {
      "text/html": [
       "<div>\n",
       "<style scoped>\n",
       "    .dataframe tbody tr th:only-of-type {\n",
       "        vertical-align: middle;\n",
       "    }\n",
       "\n",
       "    .dataframe tbody tr th {\n",
       "        vertical-align: top;\n",
       "    }\n",
       "\n",
       "    .dataframe thead th {\n",
       "        text-align: right;\n",
       "    }\n",
       "</style>\n",
       "<table border=\"1\" class=\"dataframe\">\n",
       "  <thead>\n",
       "    <tr style=\"text-align: right;\">\n",
       "      <th></th>\n",
       "      <th>first_name</th>\n",
       "      <th>last_name</th>\n",
       "      <th>email</th>\n",
       "      <th>gender</th>\n",
       "      <th>uni_grad</th>\n",
       "      <th>job_title</th>\n",
       "      <th>Income</th>\n",
       "    </tr>\n",
       "    <tr>\n",
       "      <th>id</th>\n",
       "      <th></th>\n",
       "      <th></th>\n",
       "      <th></th>\n",
       "      <th></th>\n",
       "      <th></th>\n",
       "      <th></th>\n",
       "      <th></th>\n",
       "    </tr>\n",
       "  </thead>\n",
       "  <tbody>\n",
       "    <tr>\n",
       "      <th>1.0</th>\n",
       "      <td>Keriann</td>\n",
       "      <td>Lenormand</td>\n",
       "      <td>klenormand0@businessinsider.com</td>\n",
       "      <td>Female</td>\n",
       "      <td>Aurora University</td>\n",
       "      <td>Nurse Practicioner</td>\n",
       "      <td>58135.0</td>\n",
       "    </tr>\n",
       "    <tr>\n",
       "      <th>2.0</th>\n",
       "      <td>Huntley</td>\n",
       "      <td>Rupke</td>\n",
       "      <td>hrupke1@reuters.com</td>\n",
       "      <td>Male</td>\n",
       "      <td>Osaka University of Economics</td>\n",
       "      <td>Project Manager</td>\n",
       "      <td>96053.0</td>\n",
       "    </tr>\n",
       "    <tr>\n",
       "      <th>3.0</th>\n",
       "      <td>Gorden</td>\n",
       "      <td>Dalgarnowch</td>\n",
       "      <td>gdalgarnowch2@microsoft.com</td>\n",
       "      <td>Male</td>\n",
       "      <td>Ludong University</td>\n",
       "      <td>Environmental Tech</td>\n",
       "      <td>59196.0</td>\n",
       "    </tr>\n",
       "    <tr>\n",
       "      <th>4.0</th>\n",
       "      <td>Cullie</td>\n",
       "      <td>NaN</td>\n",
       "      <td>cputten3@nymag.com</td>\n",
       "      <td>Male</td>\n",
       "      <td>Université des Sciences et de la Technologie d...</td>\n",
       "      <td>Legal Assistant</td>\n",
       "      <td>88493.0</td>\n",
       "    </tr>\n",
       "    <tr>\n",
       "      <th>5.0</th>\n",
       "      <td>Ariel</td>\n",
       "      <td>Strangman</td>\n",
       "      <td>astrangman4@bravesites.com</td>\n",
       "      <td>Female</td>\n",
       "      <td>Boise State University</td>\n",
       "      <td>Project Manager</td>\n",
       "      <td>89073.0</td>\n",
       "    </tr>\n",
       "    <tr>\n",
       "      <th>...</th>\n",
       "      <td>...</td>\n",
       "      <td>...</td>\n",
       "      <td>...</td>\n",
       "      <td>...</td>\n",
       "      <td>...</td>\n",
       "      <td>...</td>\n",
       "      <td>...</td>\n",
       "    </tr>\n",
       "    <tr>\n",
       "      <th>996.0</th>\n",
       "      <td>Meta</td>\n",
       "      <td>Crumpton</td>\n",
       "      <td>mcrumptonrn@qq.com</td>\n",
       "      <td>Female</td>\n",
       "      <td>ECAM - Institut Supérieur Industriel</td>\n",
       "      <td>Registered Nurse</td>\n",
       "      <td>57060.0</td>\n",
       "    </tr>\n",
       "    <tr>\n",
       "      <th>997.0</th>\n",
       "      <td>Gunar</td>\n",
       "      <td>Gilford</td>\n",
       "      <td>ggilfordro@yandex.ru</td>\n",
       "      <td>Male</td>\n",
       "      <td>Smolny University</td>\n",
       "      <td>Marketing Manager</td>\n",
       "      <td>76109.0</td>\n",
       "    </tr>\n",
       "    <tr>\n",
       "      <th>998.0</th>\n",
       "      <td>Lucretia</td>\n",
       "      <td>Gurling</td>\n",
       "      <td>lgurlingrp@de.vu</td>\n",
       "      <td>Female</td>\n",
       "      <td>Institut Teknologi Telkom</td>\n",
       "      <td>Software Engineer III</td>\n",
       "      <td>92115.0</td>\n",
       "    </tr>\n",
       "    <tr>\n",
       "      <th>999.0</th>\n",
       "      <td>Andrew</td>\n",
       "      <td>Yang</td>\n",
       "      <td>ayang@codedrills.com</td>\n",
       "      <td>Male</td>\n",
       "      <td>Rutgers University School of Business</td>\n",
       "      <td>Curriculum Engineer</td>\n",
       "      <td>60000.0</td>\n",
       "    </tr>\n",
       "    <tr>\n",
       "      <th>1000.0</th>\n",
       "      <td>Andrew</td>\n",
       "      <td>Yang</td>\n",
       "      <td>ayang@codedrills.com</td>\n",
       "      <td>Male</td>\n",
       "      <td>Rutgers University School of Business</td>\n",
       "      <td>Curriculum Engineer</td>\n",
       "      <td>60000.0</td>\n",
       "    </tr>\n",
       "  </tbody>\n",
       "</table>\n",
       "<p>1000 rows × 7 columns</p>\n",
       "</div>"
      ],
      "text/plain": [
       "       first_name    last_name                            email  gender  \\\n",
       "id                                                                        \n",
       "1.0       Keriann    Lenormand  klenormand0@businessinsider.com  Female   \n",
       "2.0       Huntley        Rupke              hrupke1@reuters.com    Male   \n",
       "3.0        Gorden  Dalgarnowch      gdalgarnowch2@microsoft.com    Male   \n",
       "4.0        Cullie          NaN               cputten3@nymag.com    Male   \n",
       "5.0         Ariel    Strangman       astrangman4@bravesites.com  Female   \n",
       "...           ...          ...                              ...     ...   \n",
       "996.0        Meta     Crumpton               mcrumptonrn@qq.com  Female   \n",
       "997.0       Gunar      Gilford             ggilfordro@yandex.ru    Male   \n",
       "998.0    Lucretia      Gurling                 lgurlingrp@de.vu  Female   \n",
       "999.0      Andrew         Yang             ayang@codedrills.com    Male   \n",
       "1000.0     Andrew         Yang             ayang@codedrills.com    Male   \n",
       "\n",
       "                                                 uni_grad  \\\n",
       "id                                                          \n",
       "1.0                                     Aurora University   \n",
       "2.0                         Osaka University of Economics   \n",
       "3.0                                     Ludong University   \n",
       "4.0     Université des Sciences et de la Technologie d...   \n",
       "5.0                                Boise State University   \n",
       "...                                                   ...   \n",
       "996.0                ECAM - Institut Supérieur Industriel   \n",
       "997.0                                   Smolny University   \n",
       "998.0                           Institut Teknologi Telkom   \n",
       "999.0               Rutgers University School of Business   \n",
       "1000.0              Rutgers University School of Business   \n",
       "\n",
       "                    job_title   Income  \n",
       "id                                      \n",
       "1.0        Nurse Practicioner  58135.0  \n",
       "2.0           Project Manager  96053.0  \n",
       "3.0        Environmental Tech  59196.0  \n",
       "4.0           Legal Assistant  88493.0  \n",
       "5.0           Project Manager  89073.0  \n",
       "...                       ...      ...  \n",
       "996.0        Registered Nurse  57060.0  \n",
       "997.0       Marketing Manager  76109.0  \n",
       "998.0   Software Engineer III  92115.0  \n",
       "999.0     Curriculum Engineer  60000.0  \n",
       "1000.0    Curriculum Engineer  60000.0  \n",
       "\n",
       "[1000 rows x 7 columns]"
      ]
     },
     "execution_count": 15,
     "metadata": {},
     "output_type": "execute_result"
    }
   ],
   "source": [
    "# Use the `include` parameter set to 'all' to include all columns (and datatypes)\n",
    "csvpath.describe(include=\"all\")\n",
    "csvpath.sort_index(axis=0,ascending=True,inplace=False,kind='quicksort',na_position='last',sort_remaining=True)\n",
    "csvpath"
   ]
  },
  {
   "cell_type": "markdown",
   "metadata": {},
   "source": [
    "## View Columns Names"
   ]
  },
  {
   "cell_type": "code",
   "execution_count": 39,
   "metadata": {},
   "outputs": [
    {
     "data": {
      "text/plain": [
       "Index(['first_name', 'last_name', 'email', 'gender', 'uni_grad', 'job_title',\n",
       "       'Income'],\n",
       "      dtype='object')"
      ]
     },
     "execution_count": 39,
     "metadata": {},
     "output_type": "execute_result"
    }
   ],
   "source": [
    "# Use the `columns` attribute to output the column names\n",
    "csvpath.columns"
   ]
  },
  {
   "cell_type": "markdown",
   "metadata": {},
   "source": [
    "## View Column Data Types"
   ]
  },
  {
   "cell_type": "code",
   "execution_count": 18,
   "metadata": {},
   "outputs": [],
   "source": [
    "# Use the `dtypes` attribute to output the column names and data types\n",
    "#csvpath.drop(\"gender\", axis=1).describe(include=\"all\")"
   ]
  },
  {
   "cell_type": "markdown",
   "metadata": {},
   "source": [
    "## Rename Columns Using List"
   ]
  },
  {
   "cell_type": "code",
   "execution_count": 23,
   "metadata": {},
   "outputs": [
    {
     "ename": "SyntaxError",
     "evalue": "EOL while scanning string literal (<ipython-input-23-c706a2bd3196>, line 2)",
     "output_type": "error",
     "traceback": [
      "\u001b[1;36m  File \u001b[1;32m\"<ipython-input-23-c706a2bd3196>\"\u001b[1;36m, line \u001b[1;32m2\u001b[0m\n\u001b[1;33m    csvpath.columns=([\"A\", \"B\", \"C\", \"D\", \"E\", \"F'])\u001b[0m\n\u001b[1;37m                                                    ^\u001b[0m\n\u001b[1;31mSyntaxError\u001b[0m\u001b[1;31m:\u001b[0m EOL while scanning string literal\n"
     ]
    }
   ],
   "source": [
    "# Set the `columns` attribute to a new list of column names\n",
    "csvpath.columns=([\"A\", \"B\", \"C\", \"D\", \"E\", \"F'])\n",
    "csvpath.head()"
   ]
  },
  {
   "cell_type": "markdown",
   "metadata": {},
   "source": [
    "\n",
    "## Rename Columns Using Dictionary"
   ]
  },
  {
   "cell_type": "code",
   "execution_count": null,
   "metadata": {},
   "outputs": [],
   "source": [
    "# Use the `rename` function and set the `columns` parameter to a dictionary of new column names"
   ]
  },
  {
   "cell_type": "markdown",
   "metadata": {},
   "source": [
    "## Re-order Columns"
   ]
  },
  {
   "cell_type": "code",
   "execution_count": null,
   "metadata": {},
   "outputs": [],
   "source": [
    "# Use a list of re-ordered column names to alter the column order of the original DataFrame"
   ]
  },
  {
   "cell_type": "markdown",
   "metadata": {},
   "source": [
    "## Create Additional Column"
   ]
  },
  {
   "cell_type": "code",
   "execution_count": null,
   "metadata": {},
   "outputs": [],
   "source": [
    "# Use the `randint` function to randomly generate an `Age` from 22 to 65 for 1000 rows"
   ]
  },
  {
   "cell_type": "markdown",
   "metadata": {},
   "source": [
    "## Delete Columns"
   ]
  },
  {
   "cell_type": "code",
   "execution_count": 15,
   "metadata": {},
   "outputs": [],
   "source": [
    "# Use the `drop` function to delete the newly created `Age` column"
   ]
  },
  {
   "cell_type": "markdown",
   "metadata": {},
   "source": [
    "## Save Modified DataFrame to New CSV"
   ]
  },
  {
   "cell_type": "code",
   "execution_count": 16,
   "metadata": {},
   "outputs": [],
   "source": [
    "# Save the DataFrame to the `Resources` folder"
   ]
  },
  {
   "cell_type": "code",
   "execution_count": null,
   "metadata": {},
   "outputs": [],
   "source": []
  }
 ],
 "metadata": {
  "kernelspec": {
   "display_name": "Python 3",
   "language": "python",
   "name": "python3"
  },
  "language_info": {
   "codemirror_mode": {
    "name": "ipython",
    "version": 3
   },
   "file_extension": ".py",
   "mimetype": "text/x-python",
   "name": "python",
   "nbconvert_exporter": "python",
   "pygments_lexer": "ipython3",
   "version": "3.7.6"
  }
 },
 "nbformat": 4,
 "nbformat_minor": 4
}
