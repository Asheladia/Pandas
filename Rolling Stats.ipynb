{
 "cells": [
  {
   "cell_type": "code",
   "execution_count": null,
   "metadata": {},
   "outputs": [],
   "source": [
    "#Simple Moving Averages\n",
    "#This program reads in the CSV datasets of Netflix (NFLX) and plots the 20, 50, and 100 Simple Moving Averages (SMA) using the rolling function, window parameter, and mean function."
   ]
  },
  {
   "cell_type": "code",
   "execution_count": null,
   "metadata": {},
   "outputs": [],
   "source": [
    " # Import libraries and dependencies\n",
    "import pandas as pd\n",
    "from pathlib import Path\n",
    "%matplotlib inline"
   ]
  },
  {
   "cell_type": "markdown",
   "metadata": {},
   "source": [
    "##  Read CSV in as DataFrame"
   ]
  },
  {
   "cell_type": "code",
   "execution_count": null,
   "metadata": {},
   "outputs": [],
   "source": [
    "# Set file path\n",
    "nflx_path = Path('../Pandas/nflx.csv')\n",
    "\n",
    "\n",
    "# Read the CSV into a DataFrame and set the 'date' column as a datetime index\n",
    "nflx_df = pd.read_csv(nflx_path, index_col = 'date', parse_dates = True, infer_datetime_format = True)\n",
    "\n",
    "\n",
    "# Sort the data in forward chronological order, and display a few records\n",
    "nflx_df.sort_index(inplace=True)\n",
    "nflx_df.head()"
   ]
  },
  {
   "cell_type": "markdown",
   "metadata": {},
   "source": [
    "##  Plot Daily Closing Price of NFLX"
   ]
  },
  {
   "cell_type": "code",
   "execution_count": null,
   "metadata": {},
   "outputs": [],
   "source": [
    "# Plot DataFrame\n",
    "nflx_df.plot()"
   ]
  },
  {
   "cell_type": "markdown",
   "metadata": {},
   "source": [
    "##  Calculate 20-Day Simple Moving Average (SMA20)"
   ]
  },
  {
   "cell_type": "code",
   "execution_count": null,
   "metadata": {},
   "outputs": [],
   "source": [
    "# Calculate 20-day Simple Moving Average for NFLX Closing Prices\n",
    "sma_20 = nflx_df.rolling(window = 20).mean()\n",
    "sma_20"
   ]
  },
  {
   "cell_type": "markdown",
   "metadata": {},
   "source": [
    "##  Calculate 50-Day Simple Moving Average (SMA50)"
   ]
  },
  {
   "cell_type": "code",
   "execution_count": null,
   "metadata": {},
   "outputs": [],
   "source": [
    "# Calculate 50-day Simple Moving Average for NFLX Closing Prices\n",
    "sma_50 = nflx_df.rolling(window = 50).mean()\n",
    "sma_50"
   ]
  },
  {
   "cell_type": "markdown",
   "metadata": {},
   "source": [
    "##  Calculate 100-Day Simple Moving Average (SMA100)"
   ]
  },
  {
   "cell_type": "code",
   "execution_count": null,
   "metadata": {},
   "outputs": [],
   "source": [
    " # Calculate 100-day Simple Moving Average for NFLX Closing Prices\n",
    "sma_100 = nflx_df.rolling(window = 100).mean()\n",
    "sma_100"
   ]
  },
  {
   "cell_type": "markdown",
   "metadata": {},
   "source": [
    "##  Overlay Daily Closing Prices of NFLX and SMAs"
   ]
  },
  {
   "cell_type": "code",
   "execution_count": null,
   "metadata": {},
   "outputs": [],
   "source": [
    "# Set figure of the daily closing prices of NFLX\n",
    "ax1 = nflx_df.plot(figsize=(25,10))\n",
    "\n",
    "\n",
    "# Overlay SMA20, SMA50, and SMA100 on the same figure\n",
    "sma_20.plot(ax=ax1)\n",
    "sma_50.plot(ax=ax1)\n",
    "sma_100.plot(ax=ax1)\n",
    "\n",
    "\n",
    "\n",
    "# Set the legend of the figure\n",
    "ax1.legend(['Original', 'SMA20', 'SMA50', 'SMA100'])"
   ]
  },
  {
   "cell_type": "markdown",
   "metadata": {},
   "source": [
    "##  Overlay Daily Closing Prices of NFLX and STDs"
   ]
  },
  {
   "cell_type": "code",
   "execution_count": null,
   "metadata": {},
   "outputs": [],
   "source": [
    "# Set figure of the daily closing prices of NFLX\n",
    "\n",
    "\n",
    "# Overlay STD20, STD50, and STD100 on the same figure\n",
    "\n",
    "\n",
    "# Set the legend of the figure"
   ]
  },
  {
   "cell_type": "markdown",
   "metadata": {},
   "source": [
    "##  Should Harold's firm invest long term in NFLX?"
   ]
  },
  {
   "cell_type": "code",
   "execution_count": null,
   "metadata": {},
   "outputs": [],
   "source": []
  }
 ],
 "metadata": {
  "kernelspec": {
   "display_name": "Python 3",
   "language": "python",
   "name": "python3"
  },
  "language_info": {
   "codemirror_mode": {
    "name": "ipython",
    "version": 3
   },
   "file_extension": ".py",
   "mimetype": "text/x-python",
   "name": "python",
   "nbconvert_exporter": "python",
   "pygments_lexer": "ipython3",
   "version": "3.7.6"
  }
 },
 "nbformat": 4,
 "nbformat_minor": 4
}
