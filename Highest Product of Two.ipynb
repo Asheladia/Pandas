{
 "cells": [
  {
   "cell_type": "code",
   "execution_count": null,
   "metadata": {},
   "outputs": [],
   "source": [
    "def max_product_of_two(list_param):\n",
    "    # Initialize max_product variable\n",
    "    max_product = 0\n",
    "\n",
    "    # Loop through the numbers in the list\n",
    "    for num_one in list_param:\n",
    "        # Print the num_one\n",
    "        print(num_one)\n",
    "\n",
    "        # Loop through the numbers in the list again\n",
    "        for num_two in list_param:\n",
    "\n",
    "            # Check to make sure the same number is not being multiplied\n",
    "            if num_one != num_two:\n",
    "\n",
    "                # If so, calculate the current product\n",
    "                current_product = num_two * num_one\n",
    "\n",
    "                # If the max_product is equal to 0, set the max_product to the current_product\n",
    "                # Else if the max_product is less than the current_product, set the max_product to the current_product\n",
    "                if max_product == 0:\n",
    "                    max_product = current_product\n",
    "                elif max_product < current_product:\n",
    "                    max_product = current_product\n",
    "\n",
    "                # Print the num_two, current_product, and max_product variables\n",
    "                print(f\"   {num_two} : {current_product} : {max_product}\")\n",
    "\n",
    "    return max_product\n",
    "\n",
    "# List of numbers\n",
    "list_nums = [-100, 2, 42, 100]\n",
    "\n",
    "# Call the function\n",
    "highest_product = max_product_of_two(list_nums)\n",
    "\n",
    "# Print the highest product\n",
    "print(f\"The highest product is {highest_product}.\")\n"
   ]
  }
 ],
 "metadata": {
  "kernelspec": {
   "display_name": "Python 3",
   "language": "python",
   "name": "python3"
  },
  "language_info": {
   "codemirror_mode": {
    "name": "ipython",
    "version": 3
   },
   "file_extension": ".py",
   "mimetype": "text/x-python",
   "name": "python",
   "nbconvert_exporter": "python",
   "pygments_lexer": "ipython3",
   "version": "3.7.6"
  }
 },
 "nbformat": 4,
 "nbformat_minor": 4
}
