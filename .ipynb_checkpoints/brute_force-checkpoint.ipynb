{
 "cells": [
  {
   "cell_type": "code",
   "execution_count": null,
   "metadata": {},
   "outputs": [],
   "source": [
    "def calculate_best_trade(prices):\n",
    "\n",
    "    # Check whether there are less than two prices in the list\n",
    "    # If so, the function cannot calculate maximum profit\n",
    "    # Else, there are at least two prices in the list and so run the function\n",
    "    if len(prices) < 2:\n",
    "        print(\"List of prices does not have at least two elements! Cannot run the function.\")\n",
    "    else:\n",
    "        # Initialize desired number of shares\n",
    "        num_shares = 10000\n",
    "    \n",
    "        # Initialize max profit variable\n",
    "        max_profit = 0\n",
    "    \n",
    "        # Loop over every price in the prices list\n",
    "        for price_one in prices:\n",
    "            # Print price_one\n",
    "            print(price_one)\n",
    "    \n",
    "            # Loop over every price in the prices list again\n",
    "            for price_two in prices:\n",
    "    \n",
    "                # Calculate the profit for every pair/combination of the prices list\n",
    "                profit = round(price_two - price_one, 2)\n",
    "    \n",
    "                # If max_profit is equal to 0, set max_profit to the first profit calculated\n",
    "                # Else if the current profit is greater than the max_profit, set max_profit to the current profit\n",
    "                if max_profit == 0:\n",
    "                    max_profit = profit\n",
    "                elif profit > max_profit:\n",
    "                    max_profit = profit\n",
    "    \n",
    "                # Print price_two, profit, and max_profit\n",
    "                print(f\"  {price_two} : {profit} : {max_profit}\")\n",
    "    \n",
    "        # Calculate total profit in terms of money\n",
    "        total_profit = max_profit * num_shares\n",
    "    \n",
    "        # Return total_profit variable\n",
    "        return(total_profit)\n",
    "\n",
    "# List of stock prices for IAG between 10 AM and 11 AM (5 minute interval)\n",
    "prices = [1.42, 1.32, 1.45, 1.20, 1.34, 1.74, 1.10, 1.89, 1.42, 1.90, 1.80, 1.85]\n",
    "\n",
    "# Call the function\n",
    "best_profit = calculate_best_trade(prices)\n",
    "\n",
    "# Print the results of the function\n",
    "print(f\"The best profit is ${best_profit}.\")\n"
   ]
  }
 ],
 "metadata": {
  "kernelspec": {
   "display_name": "Python 3",
   "language": "python",
   "name": "python3"
  },
  "language_info": {
   "codemirror_mode": {
    "name": "ipython",
    "version": 3
   },
   "file_extension": ".py",
   "mimetype": "text/x-python",
   "name": "python",
   "nbconvert_exporter": "python",
   "pygments_lexer": "ipython3",
   "version": "3.7.6"
  }
 },
 "nbformat": 4,
 "nbformat_minor": 4
}
